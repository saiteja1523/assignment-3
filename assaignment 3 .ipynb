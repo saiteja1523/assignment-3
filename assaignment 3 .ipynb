{
 "cells": [
  {
   "cell_type": "code",
   "execution_count": 1,
   "id": "25c5b9f0",
   "metadata": {},
   "outputs": [
    {
     "name": "stdout",
     "output_type": "stream",
     "text": [
      "20\n"
     ]
    }
   ],
   "source": [
    "# Q 1) Write a Python function to sum all the numbers in a list.\n",
    "#Sample List : (8, 2, 3, 0, 7)\n",
    "#Expected Output : 20\n",
    "\n",
    "def sum(numbers):\n",
    "    total = 0\n",
    "    for x in numbers:\n",
    "        total += x\n",
    "    return total\n",
    "print(sum((8, 2, 3, 0, 7)))"
   ]
  },
  {
   "cell_type": "code",
   "execution_count": 7,
   "id": "d507998e",
   "metadata": {},
   "outputs": [
    {
     "name": "stdout",
     "output_type": "stream",
     "text": [
      "dcba4321\n"
     ]
    }
   ],
   "source": [
    "# Q 2) Write a Python program to reverse a string.\n",
    "#Sample String : \"1234abcd\"\n",
    "#Expected Output : \"dcba4321\"\n",
    "\n",
    "def reverse_string(string_x):\n",
    "\n",
    "    string_rev = ''\n",
    "    index = len(string_x)\n",
    "    while index > 0:\n",
    "        string_rev += string_x[ index - 1 ]\n",
    "        index = index - 1\n",
    "    return string_rev\n",
    "print(reverse_string('1234abcd'))"
   ]
  },
  {
   "cell_type": "code",
   "execution_count": 19,
   "id": "d98903dd",
   "metadata": {},
   "outputs": [
    {
     "name": "stdout",
     "output_type": "stream",
     "text": [
      "Original String :  The quick Brow Fox\n",
      "No. of Upper case characters :  3\n",
      "No. of Lower case Characters :  12\n"
     ]
    }
   ],
   "source": [
    "# Q 3) Write a Python function that accepts a string and calculate the number of upper case letters and lower case letters.\n",
    "#Sample String : 'The quick Brow Fox'\n",
    "#Expected Output :\n",
    "#No. of Upper case characters : 3\n",
    "#No. of Lower case Characters : 12\n",
    "\n",
    "def strX(x):\n",
    "    y={\"uppercase\":0, \"lowercase\":0}\n",
    "    for me in x:\n",
    "        if me.isupper():\n",
    "            y[\"uppercase\"]+=1\n",
    "        elif me.islower():\n",
    "            y[\"lowercase\"]+=1\n",
    "        else:\n",
    "            pass\n",
    "    print (\"Original String : \", x)\n",
    "    print (\"No. of Upper case characters : \", y[\"uppercase\"])\n",
    "    print (\"No. of Lower case Characters : \", y[\"lowercase\"])\n",
    "\n",
    "strX('The quick Brow Fox')"
   ]
  }
 ],
 "metadata": {
  "kernelspec": {
   "display_name": "Python 3 (ipykernel)",
   "language": "python",
   "name": "python3"
  },
  "language_info": {
   "codemirror_mode": {
    "name": "ipython",
    "version": 3
   },
   "file_extension": ".py",
   "mimetype": "text/x-python",
   "name": "python",
   "nbconvert_exporter": "python",
   "pygments_lexer": "ipython3",
   "version": "3.9.7"
  }
 },
 "nbformat": 4,
 "nbformat_minor": 5
}
